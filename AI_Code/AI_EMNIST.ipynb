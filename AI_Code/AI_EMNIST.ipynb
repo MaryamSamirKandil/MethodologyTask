{
 "cells": [
  {
   "cell_type": "code",
   "execution_count": 1,
   "metadata": {},
   "outputs": [],
   "source": [
    "import numpy as np\n",
    "from tensorflow import keras\n",
    "\n",
    "from tensorflow.keras.models import Sequential\n",
    "from tensorflow.keras.layers import Dense, Flatten, Conv2D, Dropout, MaxPooling2D, BatchNormalization\n",
    "from matplotlib import pyplot as plt"
   ]
  },
  {
   "cell_type": "code",
   "execution_count": 2,
   "metadata": {},
   "outputs": [],
   "source": [
    "from numpy.random import seed\n",
    "seed(1)"
   ]
  },
  {
   "cell_type": "code",
   "execution_count": 10,
   "metadata": {},
   "outputs": [],
   "source": [
    "\n",
    "img_rows, img_cols = 28, 28\n",
    "\n",
    "\n",
    "letter_file = \"C:\\\\Users\\\\Meyah\\\\Desktop\\\\AI\\\\emnist-letters-train.csv\"\n",
    "test_file = \"C:\\\\Users\\\\Meyah\\\\Desktop\\\\AI\\\\emnist-letters-test.csv\"\n",
    "num_classes = 37\n",
    "classes = 'ABCDEFGHIJKLMNOPQRSTUVWXYZabdefghnqrt'\n"
   ]
  },
  {
   "cell_type": "code",
   "execution_count": 5,
   "metadata": {},
   "outputs": [],
   "source": [
    "\n",
    "def prep_data(raw):\n",
    "    y = raw[:, 0]\n",
    "    out_y = keras.utils.to_categorical(y, num_classes)\n",
    "\n",
    "    x = raw[:, 1:]\n",
    "    num_images = raw.shape[0]\n",
    "    out_x = x.reshape(num_images, img_rows, img_cols, 1)\n",
    "    out_x = out_x / 255\n",
    "    return out_x, out_y"
   ]
  },
  {
   "cell_type": "code",
   "execution_count": 6,
   "metadata": {},
   "outputs": [],
   "source": [
    "## Convert One-Hot-Encoded values back to real values\n",
    "def decode_label(binary_encoded_label):\n",
    "    return np.argmax(binary_encoded_label)-1"
   ]
  },
  {
   "cell_type": "code",
   "execution_count": 7,
   "metadata": {},
   "outputs": [],
   "source": [
    "## Plot an image with it's correct value\n",
    "def show_img(img,label):\n",
    "    img_flip = np.transpose(img, axes=[1,0])\n",
    "    plt.title('Label: ' + str(classes[decode_label(label)]))\n",
    "    plt.imshow(img_flip, cmap='Greys_r')"
   ]
  },
  {
   "cell_type": "code",
   "execution_count": 11,
   "metadata": {},
   "outputs": [],
   "source": [
    "## Evaluate model with the test dataset\n",
    "def eval_model(model,test_x,test_y):\n",
    "    result = model.evaluate(test_x, test_y)\n",
    "    print(\"The accuracy of the model is: \",result[1])\n",
    "    return result\n"
   ]
  },
  {
   "cell_type": "code",
   "execution_count": 22,
   "metadata": {},
   "outputs": [],
   "source": [
    "## Plot the training history\n",
    "def plot_history(history):\n",
    "    acc = history.history['acc']\n",
    "    val_acc = history.history['val_acc']\n",
    "    loss = history.history['loss']\n",
    "    val_loss = history.history['val_loss']\n",
    "\n",
    "    epochs = range(1, len(acc) + 1)\n",
    "\n",
    "    # \"bo\" is for \"blue dot\"\n",
    "    plt.plot(epochs, loss, 'bo', label='Training loss')\n",
    "    plt.plot(epochs, acc, 'b', label='Training accuracy')\n",
    "    # b is for \"solid blue line\"\n",
    "    plt.plot(epochs, val_loss, 'ro', label='Validation loss')\n",
    "    plt.plot(epochs, val_acc, 'r', label='Validation accuracy')\n",
    "    plt.title('Training and validation loss')\n",
    "    plt.xlabel('Epochs')\n",
    "    plt.ylabel('Loss')\n",
    "    plt.legend()\n",
    "\n",
    "    plt.show()"
   ]
  },
  {
   "cell_type": "code",
   "execution_count": 13,
   "metadata": {},
   "outputs": [],
   "source": [
    "letter_data = np.loadtxt(letter_file, skiprows=1, delimiter=',')\n",
    "x, y = prep_data(letter_data)"
   ]
  },
  {
   "cell_type": "code",
   "execution_count": 14,
   "metadata": {},
   "outputs": [
    {
     "name": "stdout",
     "output_type": "stream",
     "text": [
      "(88799, 28, 28, 1)\n",
      "(88799, 37)\n"
     ]
    }
   ],
   "source": [
    "print(x.shape)\n",
    "print(y.shape)"
   ]
  },
  {
   "cell_type": "code",
   "execution_count": 20,
   "metadata": {},
   "outputs": [
    {
     "data": {
      "image/png": "[encoded data removed]",
      "text/plain": [
       "<Figure size 1224x324 with 9 Axes>"
      ]
     },
     "metadata": {
      "needs_background": "light"
     },
     "output_type": "display_data"
    }
   ],
   "source": [
    "fig = plt.figure(figsize=(17,4.5))\n",
    "for idx in range(9):\n",
    "    fig.add_subplot(3,3,idx+1)\n",
    "    plt.axis('off')\n",
    "    show_img(np.squeeze(x[idx]),y[idx])\n",
    "plt.subplots_adjust(wspace=0.3, hspace=0.3)"
   ]
  },
  {
   "cell_type": "code",
   "execution_count": 16,
   "metadata": {},
   "outputs": [],
   "source": [
    "test_data = np.loadtxt(test_file, skiprows=1, delimiter=',')\n",
    "test_x, test_y = prep_data(test_data)"
   ]
  },
  {
   "cell_type": "code",
   "execution_count": 17,
   "metadata": {},
   "outputs": [
    {
     "name": "stdout",
     "output_type": "stream",
     "text": [
      "(14799, 28, 28, 1)\n",
      "(14799, 37)\n"
     ]
    }
   ],
   "source": [
    "print(test_x.shape)\n",
    "print(test_y.shape)"
   ]
  },
  {
   "cell_type": "code",
   "execution_count": 18,
   "metadata": {},
   "outputs": [],
   "source": [
    "\n",
    "def create_basic_model():\n",
    "    batch_size = 64\n",
    "\n",
    "    model = Sequential()\n",
    "    model.add(Conv2D(32, kernel_size=(3, 3), strides=1,activation='relu'))\n",
    "    model.add(Conv2D(32, (3, 3), activation='relu', strides=1))\n",
    "    model.add(Flatten())\n",
    "    model.add(Dense(128, activation='relu'))\n",
    "    model.add(Dense(num_classes, activation='softmax'))\n",
    "\n",
    "    model.compile(loss=keras.losses.categorical_crossentropy,\n",
    "                  optimizer='adam',\n",
    "                  metrics=['accuracy'])\n",
    "    \n",
    "    return model"
   ]
  },
  {
   "cell_type": "code",
   "execution_count": 19,
   "metadata": {},
   "outputs": [
    {
     "name": "stdout",
     "output_type": "stream",
     "text": [
      "Train on 71039 samples, validate on 17760 samples\n",
      "Epoch 1/10\n",
      "71039/71039 [==============================] - 147s 2ms/sample - loss: 0.6184 - accuracy: 0.8099 - val_loss: 0.3566 - val_accuracy: 0.8887\n",
      "Epoch 2/10\n",
      "71039/71039 [==============================] - 145s 2ms/sample - loss: 0.2795 - accuracy: 0.9082 - val_loss: 0.3094 - val_accuracy: 0.9022\n",
      "Epoch 3/10\n",
      "71039/71039 [==============================] - 152s 2ms/sample - loss: 0.2092 - accuracy: 0.9284 - val_loss: 0.2749 - val_accuracy: 0.9153\n",
      "Epoch 4/10\n",
      "71039/71039 [==============================] - 144s 2ms/sample - loss: 0.1624 - accuracy: 0.9423 - val_loss: 0.2823 - val_accuracy: 0.9141\n",
      "Epoch 5/10\n",
      "71039/71039 [==============================] - 143s 2ms/sample - loss: 0.1271 - accuracy: 0.9520 - val_loss: 0.3003 - val_accuracy: 0.9144\n",
      "Epoch 6/10\n",
      "71039/71039 [==============================] - 154s 2ms/sample - loss: 0.1030 - accuracy: 0.9612 - val_loss: 0.3218 - val_accuracy: 0.9126\n",
      "Epoch 7/10\n",
      "71039/71039 [==============================] - 144s 2ms/sample - loss: 0.0877 - accuracy: 0.9662 - val_loss: 0.3440 - val_accuracy: 0.9123\n",
      "Epoch 8/10\n",
      "71039/71039 [==============================] - 140s 2ms/sample - loss: 0.0713 - accuracy: 0.9711 - val_loss: 0.3761 - val_accuracy: 0.9102\n",
      "Epoch 9/10\n",
      "71039/71039 [==============================] - 139s 2ms/sample - loss: 0.0667 - accuracy: 0.9720 - val_loss: 0.3946 - val_accuracy: 0.9080\n",
      "Epoch 10/10\n",
      "71039/71039 [==============================] - 131s 2ms/sample - loss: 0.0587 - accuracy: 0.9756 - val_loss: 0.4233 - val_accuracy: 0.9091\n"
     ]
    }
   ],
   "source": [
    "batch_size = 128\n",
    "\n",
    "basic_model = create_basic_model()\n",
    "basic_history = basic_model.fit(x, y,\n",
    "          batch_size = batch_size,\n",
    "          epochs = 10,\n",
    "          validation_split = 0.2)"
   ]
  },
  {
   "cell_type": "code",
   "execution_count": null,
   "metadata": {},
   "outputs": [],
   "source": []
  }
 ],
 "metadata": {
  "kernelspec": {
   "display_name": "Python 3",
   "language": "python",
   "name": "python3"
  },
  "language_info": {
   "codemirror_mode": {
    "name": "ipython",
    "version": 3
   },
   "file_extension": ".py",
   "mimetype": "text/x-python",
   "name": "python",
   "nbconvert_exporter": "python",
   "pygments_lexer": "ipython3",
   "version": "3.7.3"
  }
 },
 "nbformat": 4,
 "nbformat_minor": 2
}
